{
  "nbformat": 4,
  "nbformat_minor": 0,
  "metadata": {
    "colab": {
      "name": "Lab 6 - Stemming Non-english.ipynb",
      "provenance": [],
      "authorship_tag": "ABX9TyMTtUDer91elXcUFueoYsAJ",
      "include_colab_link": true
    },
    "kernelspec": {
      "name": "python3",
      "display_name": "Python 3"
    },
    "language_info": {
      "name": "python"
    }
  },
  "cells": [
    {
      "cell_type": "markdown",
      "metadata": {
        "id": "view-in-github",
        "colab_type": "text"
      },
      "source": [
        "<a href=\"https://colab.research.google.com/github/minimalelement/laboratory/blob/main/Lab_6_Stemming_Non_english.ipynb\" target=\"_parent\"><img src=\"https://colab.research.google.com/assets/colab-badge.svg\" alt=\"Open In Colab\"/></a>"
      ]
    },
    {
      "cell_type": "code",
      "execution_count": 8,
      "metadata": {
        "id": "cTf1KfT3FAHF"
      },
      "outputs": [],
      "source": [
        "import nltk\n",
        "from nltk.tokenize import word_tokenize\n",
        "from nltk.corpus import stopwords\n",
        "from nltk.corpus import wordnet\n",
        "from nltk.stem.snowball import GermanStemmer \n"
      ]
    },
    {
      "cell_type": "code",
      "source": [
        "nltk.download('wordnet')\n",
        "nltk.download('omw-1.4')\n",
        "nltk.download('punkt')\n",
        "nltk.download('stopwords')"
      ],
      "metadata": {
        "colab": {
          "base_uri": "https://localhost:8080/"
        },
        "id": "1JpmIWE_G1kP",
        "outputId": "469f3c84-97b4-438b-c572-be58678bd922"
      },
      "execution_count": 12,
      "outputs": [
        {
          "output_type": "stream",
          "name": "stderr",
          "text": [
            "[nltk_data] Downloading package wordnet to /root/nltk_data...\n",
            "[nltk_data] Downloading package omw-1.4 to /root/nltk_data...\n",
            "[nltk_data] Downloading package punkt to /root/nltk_data...\n",
            "[nltk_data]   Unzipping tokenizers/punkt.zip.\n",
            "[nltk_data] Downloading package stopwords to /root/nltk_data...\n",
            "[nltk_data]   Unzipping corpora/stopwords.zip.\n"
          ]
        },
        {
          "output_type": "execute_result",
          "data": {
            "text/plain": [
              "True"
            ]
          },
          "metadata": {},
          "execution_count": 12
        }
      ]
    },
    {
      "cell_type": "code",
      "source": [
        "german_st = GermanStemmer()"
      ],
      "metadata": {
        "id": "g_yxb70hFKw4"
      },
      "execution_count": 5,
      "outputs": []
    },
    {
      "cell_type": "code",
      "source": [
        "inputdata = open('/content/sample_data/climate_change_german.txt', 'r')\n",
        "data = inputdata.read()\n",
        "\n",
        "\n",
        "print(data)\n",
        "\n",
        "textdata = word_tokenize(data)\n",
        "\n",
        "print(textdata)"
      ],
      "metadata": {
        "colab": {
          "base_uri": "https://localhost:8080/"
        },
        "id": "wdg06nKmFmhp",
        "outputId": "2cb78674-19ba-402b-aa67-2780622b3343"
      },
      "execution_count": 13,
      "outputs": [
        {
          "output_type": "stream",
          "name": "stdout",
          "text": [
            "Der Klimawandel bedroht die Menschen mit Nahrungs- und Wasserknappheit, vermehrten Überschwemmungen, extremer Hitze, mehr Krankheiten und wirtschaftlichen Verlusten. Migration und Konflikte können die Folge sein. Die Weltgesundheitsorganisation nennt den Klimawandel die größte Bedrohung für die globale Gesundheit im 21. Jahrhundert.\n",
            "['Der', 'Klimawandel', 'bedroht', 'die', 'Menschen', 'mit', 'Nahrungs-', 'und', 'Wasserknappheit', ',', 'vermehrten', 'Überschwemmungen', ',', 'extremer', 'Hitze', ',', 'mehr', 'Krankheiten', 'und', 'wirtschaftlichen', 'Verlusten', '.', 'Migration', 'und', 'Konflikte', 'können', 'die', 'Folge', 'sein', '.', 'Die', 'Weltgesundheitsorganisation', 'nennt', 'den', 'Klimawandel', 'die', 'größte', 'Bedrohung', 'für', 'die', 'globale', 'Gesundheit', 'im', '21', '.', 'Jahrhundert', '.']\n"
          ]
        }
      ]
    },
    {
      "cell_type": "code",
      "source": [
        "stem_words = [german_st.stem(words) for words in textdata]\n",
        "\n",
        "print(\"Print the output after stemming:\",stem_words)"
      ],
      "metadata": {
        "colab": {
          "base_uri": "https://localhost:8080/"
        },
        "id": "GcW7eZ5FFU4-",
        "outputId": "97a73861-a1e6-42f0-a753-05e755d853f0"
      },
      "execution_count": 14,
      "outputs": [
        {
          "output_type": "stream",
          "name": "stdout",
          "text": [
            "Print the output after stemming: ['der', 'klimawandel', 'bedroht', 'die', 'mensch', 'mit', 'nahrungs-', 'und', 'wasserknapp', ',', 'vermehrt', 'uberschwemm', ',', 'extrem', 'hitz', ',', 'mehr', 'krankheit', 'und', 'wirtschaft', 'verlust', '.', 'migration', 'und', 'konflikt', 'konn', 'die', 'folg', 'sein', '.', 'die', 'weltgesundheitsorganisation', 'nennt', 'den', 'klimawandel', 'die', 'grosst', 'bedroh', 'fur', 'die', 'global', 'gesund', 'im', '21', '.', 'jahrhundert', '.']\n"
          ]
        }
      ]
    },
    {
      "cell_type": "code",
      "source": [
        ""
      ],
      "metadata": {
        "id": "80sLgi_AHDzy"
      },
      "execution_count": null,
      "outputs": []
    }
  ]
}